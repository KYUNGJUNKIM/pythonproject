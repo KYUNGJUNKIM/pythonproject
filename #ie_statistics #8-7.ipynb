{
 "cells": [
  {
   "cell_type": "code",
   "execution_count": 2,
   "id": "f821b270",
   "metadata": {},
   "outputs": [
    {
     "name": "stdout",
     "output_type": "stream",
     "text": [
      "H0 rejected\n",
      "0.021390605541173214\n",
      "0.6555787449469321\n",
      "1.2815515655446004\n",
      "1212.926156305666\n"
     ]
    }
   ],
   "source": [
    "#ie_statistics hw3 #8-7\n",
    "\n",
    "import math\n",
    "from scipy.stats import norm\n",
    "\n",
    "p = 0.02\n",
    "p0 = 0.04\n",
    "n = 300\n",
    "se0 = math.sqrt(p0*(1-p0)/n)\n",
    "z = (p-p0)/se0\n",
    "alpha = 0.05\n",
    "rc = norm(loc=0, scale=1)\n",
    "z_alpha = rc.ppf(1-alpha)\n",
    "\n",
    "#왼쪽 단측검정\n",
    "standard_norm = norm(0,1)\n",
    "z0 = -standard_norm.ppf(0.95)\n",
    "\n",
    "if z < z0:\n",
    "    print(\"H0 rejected\")\n",
    "else:\n",
    "    print(\"H0 accepted\")\n",
    "\n",
    "#2종오류와표본수\n",
    "q = p0 + rc.ppf(alpha)*se0\n",
    "print(q)\n",
    "p_a = 0.025\n",
    "se = math.sqrt(p_a*(1-p_a)/n)\n",
    "rv = norm(loc=p_a, scale=se)\n",
    "p_beta = rv.sf(q)\n",
    "print(p_beta)\n",
    "beta = 0.1\n",
    "z_beta = rc.isf(beta)\n",
    "print(z_beta)\n",
    "n_size = (z_alpha * math.sqrt(p0 * (1-p0))+z_beta * math.sqrt(p_a * (1-p_a)))**2/(p_a-p0)**2\n",
    "print(n_size)\n"
   ]
  },
  {
   "cell_type": "code",
   "execution_count": null,
   "id": "2ae33c65",
   "metadata": {},
   "outputs": [],
   "source": []
  }
 ],
 "metadata": {
  "kernelspec": {
   "display_name": "Python 3 (ipykernel)",
   "language": "python",
   "name": "python3"
  },
  "language_info": {
   "codemirror_mode": {
    "name": "ipython",
    "version": 3
   },
   "file_extension": ".py",
   "mimetype": "text/x-python",
   "name": "python",
   "nbconvert_exporter": "python",
   "pygments_lexer": "ipython3",
   "version": "3.9.7"
  }
 },
 "nbformat": 4,
 "nbformat_minor": 5
}
